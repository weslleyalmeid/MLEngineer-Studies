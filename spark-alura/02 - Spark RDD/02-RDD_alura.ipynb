{
  "nbformat": 4,
  "nbformat_minor": 0,
  "metadata": {
    "colab": {
      "provenance": [],
      "collapsed_sections": [],
      "toc_visible": true
    },
    "kernelspec": {
      "name": "python3",
      "display_name": "Python 3"
    },
    "language_info": {
      "name": "python"
    }
  },
  "cells": [
    {
      "cell_type": "markdown",
      "source": [
        "#Instalando pyspark no Colab"
      ],
      "metadata": {
        "id": "FfzkzwyMlAU_"
      }
    },
    {
      "cell_type": "code",
      "source": [
        "!pip install pyspark"
      ],
      "metadata": {
        "id": "zbSZ2osggKG6"
      },
      "execution_count": null,
      "outputs": []
    },
    {
      "cell_type": "markdown",
      "source": [
        "#Importando o SparkContext"
      ],
      "metadata": {
        "id": "w60Q8n6blFIb"
      }
    },
    {
      "cell_type": "code",
      "source": [
        "from pyspark import SparkContext"
      ],
      "metadata": {
        "id": "u8-H64jKf_b_"
      },
      "execution_count": null,
      "outputs": []
    },
    {
      "cell_type": "markdown",
      "source": [
        "#Criando um contexto para o Spark e colocando na variavel **sc**"
      ],
      "metadata": {
        "id": "g91gMlYflJIg"
      }
    },
    {
      "cell_type": "code",
      "source": [
        "sc = SparkContext()"
      ],
      "metadata": {
        "id": "2cxj1K2zfwK1"
      },
      "execution_count": null,
      "outputs": []
    },
    {
      "cell_type": "markdown",
      "source": [
        "#Criando uma variavel com nossos dados fictícios "
      ],
      "metadata": {
        "id": "pmoo8yMclU2m"
      }
    },
    {
      "cell_type": "code",
      "source": [
        "data = [1, 2, 3, 4, 5]"
      ],
      "metadata": {
        "id": "F1saBPdUlcf2"
      },
      "execution_count": null,
      "outputs": []
    },
    {
      "cell_type": "markdown",
      "source": [
        "#Criando nosso RDD\n",
        "com o a função **parallelize** onde passamos por parametro os nossos dados que podem ser uma lista como no exemplo, mas podem vir de várias fontes como arquivos"
      ],
      "metadata": {
        "id": "sx1KllIDldyA"
      }
    },
    {
      "cell_type": "code",
      "execution_count": null,
      "metadata": {
        "id": "d5OtFLkBfkI6"
      },
      "outputs": [],
      "source": [
        "rdd = sc.parallelize(data)"
      ]
    },
    {
      "cell_type": "markdown",
      "source": [
        "#Operações de RDD podem ser do tipo ação ou do tipo transformação"
      ],
      "metadata": {
        "id": "6coyKZOrmKNY"
      }
    },
    {
      "cell_type": "markdown",
      "source": [
        "#Ação"
      ],
      "metadata": {
        "id": "8a0bhM7wm3QG"
      }
    },
    {
      "cell_type": "markdown",
      "source": [
        "##collect "
      ],
      "metadata": {
        "id": "7DYkZS7jm86u"
      }
    },
    {
      "cell_type": "markdown",
      "source": [
        "Equivalente ao **head** ou **display** no pandas"
      ],
      "metadata": {
        "id": "j_Imv6XPoyzS"
      }
    },
    {
      "cell_type": "code",
      "source": [
        "rdd.collect()"
      ],
      "metadata": {
        "colab": {
          "base_uri": "https://localhost:8080/"
        },
        "id": "DDgrZbeQoqmi",
        "outputId": "fb55dad7-2751-4134-b378-2fee668e1df5"
      },
      "execution_count": null,
      "outputs": [
        {
          "output_type": "execute_result",
          "data": {
            "text/plain": [
              "[1, 2, 3, 4, 5]"
            ]
          },
          "metadata": {},
          "execution_count": 43
        }
      ]
    },
    {
      "cell_type": "markdown",
      "source": [
        "##reduce"
      ],
      "metadata": {
        "id": "c6BqYvadm4tY"
      }
    },
    {
      "cell_type": "markdown",
      "source": [
        "Equivalente ao **apply** do Pandas"
      ],
      "metadata": {
        "id": "9p_bpneKpE9J"
      }
    },
    {
      "cell_type": "code",
      "source": [
        "rdd.reduce(lambda x, y : x + y)"
      ],
      "metadata": {
        "colab": {
          "base_uri": "https://localhost:8080/"
        },
        "id": "w1QgUh77oCbz",
        "outputId": "05350556-e33a-4567-cd27-71c660010eb1"
      },
      "execution_count": null,
      "outputs": [
        {
          "output_type": "execute_result",
          "data": {
            "text/plain": [
              "15"
            ]
          },
          "metadata": {},
          "execution_count": 45
        }
      ]
    },
    {
      "cell_type": "markdown",
      "source": [
        "##count"
      ],
      "metadata": {
        "id": "Y-ZUBuemnKle"
      }
    },
    {
      "cell_type": "markdown",
      "source": [
        "Equivalente ao count ou size no Pandas"
      ],
      "metadata": {
        "id": "Nsg4dtonr1O2"
      }
    },
    {
      "cell_type": "code",
      "source": [
        "rdd.count()"
      ],
      "metadata": {
        "colab": {
          "base_uri": "https://localhost:8080/"
        },
        "id": "afXHLJ-5rzQa",
        "outputId": "1cc30971-607c-48dc-fdba-a8860b4ea57c"
      },
      "execution_count": null,
      "outputs": [
        {
          "output_type": "execute_result",
          "data": {
            "text/plain": [
              "5"
            ]
          },
          "metadata": {},
          "execution_count": 33
        }
      ]
    },
    {
      "cell_type": "markdown",
      "source": [
        "#Transformação"
      ],
      "metadata": {
        "id": "r3AKtrEPnS05"
      }
    },
    {
      "cell_type": "markdown",
      "source": [
        "##map"
      ],
      "metadata": {
        "id": "aRNe6zr3nZEO"
      }
    },
    {
      "cell_type": "markdown",
      "source": [
        "INPLACE= False"
      ],
      "metadata": {
        "id": "AVoLq-KLv9sr"
      }
    },
    {
      "cell_type": "code",
      "source": [
        "rdd_2 = rdd.map(lambda x: x + 10)"
      ],
      "metadata": {
        "id": "InG-zK_5rPgb"
      },
      "execution_count": null,
      "outputs": []
    },
    {
      "cell_type": "code",
      "source": [
        "rdd_2.collect()"
      ],
      "metadata": {
        "colab": {
          "base_uri": "https://localhost:8080/"
        },
        "id": "4cTbhGccrd96",
        "outputId": "1c74403e-b388-4e74-9016-af63b9c419ea"
      },
      "execution_count": null,
      "outputs": [
        {
          "output_type": "execute_result",
          "data": {
            "text/plain": [
              "[11, 12, 13, 14, 15]"
            ]
          },
          "metadata": {},
          "execution_count": 29
        }
      ]
    },
    {
      "cell_type": "code",
      "source": [
        "rdd.collect()"
      ],
      "metadata": {
        "colab": {
          "base_uri": "https://localhost:8080/"
        },
        "id": "Csa6g6qRrZ-j",
        "outputId": "b7b64bcf-2a86-43f8-b751-6241e28a9c1a"
      },
      "execution_count": null,
      "outputs": [
        {
          "output_type": "execute_result",
          "data": {
            "text/plain": [
              "[1, 2, 3, 4, 5]"
            ]
          },
          "metadata": {},
          "execution_count": 26
        }
      ]
    },
    {
      "cell_type": "markdown",
      "source": [
        "##filter"
      ],
      "metadata": {
        "id": "I2HCGjwvnbG1"
      }
    },
    {
      "cell_type": "code",
      "source": [
        "rdd_3 = rdd.filter(lambda x: x%2 == 0)\n",
        "rdd_3"
      ],
      "metadata": {
        "colab": {
          "base_uri": "https://localhost:8080/"
        },
        "id": "tvKCvTJ-rkgE",
        "outputId": "3ef7ad62-e9e0-4d35-f490-82a2561ca425"
      },
      "execution_count": null,
      "outputs": [
        {
          "output_type": "execute_result",
          "data": {
            "text/plain": [
              "PythonRDD[5] at RDD at PythonRDD.scala:53"
            ]
          },
          "metadata": {},
          "execution_count": 30
        }
      ]
    },
    {
      "cell_type": "code",
      "source": [
        "rdd_3.collect()"
      ],
      "metadata": {
        "colab": {
          "base_uri": "https://localhost:8080/"
        },
        "id": "L0aziScFrtHb",
        "outputId": "a96e421f-7700-4fe1-bfa8-203f509478bc"
      },
      "execution_count": null,
      "outputs": [
        {
          "output_type": "execute_result",
          "data": {
            "text/plain": [
              "[2, 4]"
            ]
          },
          "metadata": {},
          "execution_count": 31
        }
      ]
    },
    {
      "cell_type": "code",
      "source": [
        "rdd.collect()"
      ],
      "metadata": {
        "colab": {
          "base_uri": "https://localhost:8080/"
        },
        "id": "dA3oj9pXrwJt",
        "outputId": "92fc8d1e-ed87-416a-8d55-ecb48593d65b"
      },
      "execution_count": null,
      "outputs": [
        {
          "output_type": "execute_result",
          "data": {
            "text/plain": [
              "[1, 2, 3, 4, 5]"
            ]
          },
          "metadata": {},
          "execution_count": 32
        }
      ]
    },
    {
      "cell_type": "markdown",
      "source": [
        "#Finalizando o contexto Spark"
      ],
      "metadata": {
        "id": "_fVMP6hJmzxK"
      }
    },
    {
      "cell_type": "code",
      "source": [
        "sc.stop()"
      ],
      "metadata": {
        "id": "pk3cBXyQ8_3C"
      },
      "execution_count": null,
      "outputs": []
    }
  ]
}