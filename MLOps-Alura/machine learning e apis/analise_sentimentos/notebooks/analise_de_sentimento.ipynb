{
 "cells": [
  {
   "cell_type": "markdown",
   "id": "84a9e986",
   "metadata": {},
   "source": [
    "### Análise de sentimento"
   ]
  },
  {
   "cell_type": "code",
   "execution_count": 90,
   "id": "80593cc6",
   "metadata": {},
   "outputs": [],
   "source": [
    "from textblob import TextBlob"
   ]
  },
  {
   "cell_type": "code",
   "execution_count": 94,
   "id": "b760316b",
   "metadata": {},
   "outputs": [],
   "source": [
    "frase = \"Python é ótimo para Machine Learning\"\n",
    "tb = TextBlob(frase)\n",
    "tb_en = tb.translate(from_lang='pt_br', to='en')"
   ]
  },
  {
   "cell_type": "code",
   "execution_count": 96,
   "id": "f77d2921",
   "metadata": {},
   "outputs": [
    {
     "data": {
      "text/plain": [
       "TextBlob(\"Python is great for Machine Learning\")"
      ]
     },
     "execution_count": 96,
     "metadata": {},
     "output_type": "execute_result"
    }
   ],
   "source": [
    "tb_en"
   ]
  },
  {
   "cell_type": "code",
   "execution_count": 95,
   "id": "8d483d1e",
   "metadata": {},
   "outputs": [
    {
     "data": {
      "text/plain": [
       "0.8"
      ]
     },
     "execution_count": 95,
     "metadata": {},
     "output_type": "execute_result"
    }
   ],
   "source": [
    "tb_en.sentiment.polarity"
   ]
  },
  {
   "cell_type": "code",
   "execution_count": 6,
   "id": "1d8dcb37",
   "metadata": {},
   "outputs": [],
   "source": [
    "frase = 'Moji Mirim'\n",
    "test = TextBlob(frase)"
   ]
  },
  {
   "cell_type": "code",
   "execution_count": 7,
   "id": "e4894b7a",
   "metadata": {},
   "outputs": [
    {
     "data": {
      "text/plain": [
       "TextBlob(\"Foci Firm\")"
      ]
     },
     "execution_count": 7,
     "metadata": {},
     "output_type": "execute_result"
    }
   ],
   "source": [
    "test.correct()"
   ]
  },
  {
   "cell_type": "markdown",
   "id": "12f85baf",
   "metadata": {},
   "source": [
    "### Similaridade de palavras"
   ]
  },
  {
   "cell_type": "code",
   "execution_count": 17,
   "id": "cd157027",
   "metadata": {},
   "outputs": [],
   "source": [
    "# ! pip install fuzzywuzzy"
   ]
  },
  {
   "cell_type": "code",
   "execution_count": 27,
   "id": "64c8811f",
   "metadata": {},
   "outputs": [],
   "source": [
    "# a lib acima esta sendo migrada para essa\n",
    "# ! pip install thefuzz\n",
    "# from thefuzz import fuzz"
   ]
  },
  {
   "cell_type": "code",
   "execution_count": 28,
   "id": "0c7c2f9c",
   "metadata": {},
   "outputs": [],
   "source": [
    "from fuzzywuzzy import fuzz\n",
    "from fuzzywuzzy import process"
   ]
  },
  {
   "cell_type": "code",
   "execution_count": 29,
   "id": "d83d239d",
   "metadata": {},
   "outputs": [
    {
     "data": {
      "text/plain": [
       "90"
      ]
     },
     "execution_count": 29,
     "metadata": {},
     "output_type": "execute_result"
    }
   ],
   "source": [
    "s1 = 'Moji Mirim'\n",
    "s2 = 'Mouji Mirim'\n",
    "\n",
    "fuzz.ratio(s1, s2)"
   ]
  },
  {
   "cell_type": "code",
   "execution_count": 36,
   "id": "2060346e",
   "metadata": {},
   "outputs": [
    {
     "data": {
      "text/plain": [
       "40"
      ]
     },
     "execution_count": 36,
     "metadata": {},
     "output_type": "execute_result"
    }
   ],
   "source": [
    "s3 = 'Itapemirim'\n",
    "fuzz.ratio(s2, s3)"
   ]
  },
  {
   "cell_type": "code",
   "execution_count": 37,
   "id": "0711395a",
   "metadata": {},
   "outputs": [
    {
     "data": {
      "text/plain": [
       "80"
      ]
     },
     "execution_count": 37,
     "metadata": {},
     "output_type": "execute_result"
    }
   ],
   "source": [
    "s4 = 'Mougi Mirin'\n",
    "fuzz.partial_ratio(s1, s4)"
   ]
  },
  {
   "cell_type": "code",
   "execution_count": 39,
   "id": "5269e632",
   "metadata": {},
   "outputs": [],
   "source": [
    "cidades_corretas = ['São Paulo', 'Mogi Mirim', 'Rio de Janeiro', 'Itapemirim']\n",
    "cidade_class = 'Muge Merin'"
   ]
  },
  {
   "cell_type": "markdown",
   "id": "fd5f5142",
   "metadata": {},
   "source": [
    "### Extraindo as similaridades"
   ]
  },
  {
   "cell_type": "code",
   "execution_count": 49,
   "id": "ffec9e2b",
   "metadata": {},
   "outputs": [
    {
     "data": {
      "text/plain": [
       "[('Mogi Mirim', 60),\n",
       " ('Rio de Janeiro', 42),\n",
       " ('Itapemirim', 40),\n",
       " ('São Paulo', 11)]"
      ]
     },
     "execution_count": 49,
     "metadata": {},
     "output_type": "execute_result"
    }
   ],
   "source": [
    "process.extract(cidade_class, cidades_corretas, scorer=fuzz.partial_ratio)"
   ]
  },
  {
   "cell_type": "markdown",
   "id": "b301eddc",
   "metadata": {},
   "source": [
    "### Limitando o Retorno"
   ]
  },
  {
   "cell_type": "code",
   "execution_count": 52,
   "id": "a8a90a9e",
   "metadata": {},
   "outputs": [
    {
     "data": {
      "text/plain": [
       "[('Mogi Mirim', 60), ('Rio de Janeiro', 42), ('Itapemirim', 40)]"
      ]
     },
     "execution_count": 52,
     "metadata": {},
     "output_type": "execute_result"
    }
   ],
   "source": [
    "process.extract(cidade_class, cidades_corretas, scorer=fuzz.partial_ratio, limit=3)"
   ]
  },
  {
   "cell_type": "markdown",
   "id": "c6bc8d20",
   "metadata": {},
   "source": [
    "### Extraindo apenas o primeiro elemento com maior cutoff"
   ]
  },
  {
   "cell_type": "code",
   "execution_count": 53,
   "id": "59d138ed",
   "metadata": {},
   "outputs": [
    {
     "data": {
      "text/plain": [
       "('Mogi Mirim', 60)"
      ]
     },
     "execution_count": 53,
     "metadata": {},
     "output_type": "execute_result"
    }
   ],
   "source": [
    "process.extractOne(cidade_class, cidades_corretas, scorer=fuzz.partial_ratio, score_cutoff=60)"
   ]
  },
  {
   "cell_type": "markdown",
   "id": "02e17938",
   "metadata": {},
   "source": [
    "* Aplicar o fuzzywuzzy em uma base de dados\n",
    "* Medir a similaridade de strings e fazer **Data Cleaning**"
   ]
  },
  {
   "cell_type": "code",
   "execution_count": 67,
   "id": "1d2283b5",
   "metadata": {},
   "outputs": [],
   "source": [
    "import pandas as pd\n",
    "from collections import OrderedDict\n",
    "data = OrderedDict(\n",
    "    {\n",
    "        'codigo_produto': [10 , 11, 12, 13, 14, 99],\n",
    "        'descrição': ['iphone 6ss', 'iphone 6s', 'iphoni 6s', 'ipone 6s','Iphone 6s,,,,', 'Abacate']\n",
    "        \n",
    "    })"
   ]
  },
  {
   "cell_type": "code",
   "execution_count": 68,
   "id": "fe42229b",
   "metadata": {},
   "outputs": [
    {
     "data": {
      "text/html": [
       "<div>\n",
       "<style scoped>\n",
       "    .dataframe tbody tr th:only-of-type {\n",
       "        vertical-align: middle;\n",
       "    }\n",
       "\n",
       "    .dataframe tbody tr th {\n",
       "        vertical-align: top;\n",
       "    }\n",
       "\n",
       "    .dataframe thead th {\n",
       "        text-align: right;\n",
       "    }\n",
       "</style>\n",
       "<table border=\"1\" class=\"dataframe\">\n",
       "  <thead>\n",
       "    <tr style=\"text-align: right;\">\n",
       "      <th></th>\n",
       "      <th>codigo_produto</th>\n",
       "      <th>descrição</th>\n",
       "    </tr>\n",
       "  </thead>\n",
       "  <tbody>\n",
       "    <tr>\n",
       "      <th>0</th>\n",
       "      <td>10</td>\n",
       "      <td>iphone 6ss</td>\n",
       "    </tr>\n",
       "    <tr>\n",
       "      <th>1</th>\n",
       "      <td>11</td>\n",
       "      <td>iphone 6s</td>\n",
       "    </tr>\n",
       "    <tr>\n",
       "      <th>2</th>\n",
       "      <td>12</td>\n",
       "      <td>iphoni 6s</td>\n",
       "    </tr>\n",
       "    <tr>\n",
       "      <th>3</th>\n",
       "      <td>13</td>\n",
       "      <td>ipone 6s</td>\n",
       "    </tr>\n",
       "    <tr>\n",
       "      <th>4</th>\n",
       "      <td>14</td>\n",
       "      <td>Iphone 6s,,,,</td>\n",
       "    </tr>\n",
       "    <tr>\n",
       "      <th>5</th>\n",
       "      <td>99</td>\n",
       "      <td>Abacate</td>\n",
       "    </tr>\n",
       "  </tbody>\n",
       "</table>\n",
       "</div>"
      ],
      "text/plain": [
       "   codigo_produto      descrição\n",
       "0              10     iphone 6ss\n",
       "1              11      iphone 6s\n",
       "2              12      iphoni 6s\n",
       "3              13       ipone 6s\n",
       "4              14  Iphone 6s,,,,\n",
       "5              99        Abacate"
      ]
     },
     "execution_count": 68,
     "metadata": {},
     "output_type": "execute_result"
    }
   ],
   "source": [
    "dataset = pd.DataFrame(data)\n",
    "dataset"
   ]
  },
  {
   "cell_type": "code",
   "execution_count": 69,
   "id": "45ee8b27",
   "metadata": {},
   "outputs": [
    {
     "data": {
      "text/plain": [
       "('iphone 6s', 100, 1)"
      ]
     },
     "execution_count": 69,
     "metadata": {},
     "output_type": "execute_result"
    }
   ],
   "source": [
    "process.extractOne('Iphone 6s', choices=dataset.descrição, scorer=fuzz.ratio, score_cutoff=95)"
   ]
  },
  {
   "cell_type": "code",
   "execution_count": 70,
   "id": "771a4af7",
   "metadata": {},
   "outputs": [],
   "source": [
    "def AplicaFuzzy(query, dados, metodo_ratio, score_corte):\n",
    "    return process.extractOne(query, choices=dados, scorer=metodo_ratio, score_cutoff=score_corte)"
   ]
  },
  {
   "cell_type": "code",
   "execution_count": 71,
   "id": "fd8603d2",
   "metadata": {},
   "outputs": [
    {
     "data": {
      "text/plain": [
       "('iphone 6s', 100, 1)"
      ]
     },
     "execution_count": 71,
     "metadata": {},
     "output_type": "execute_result"
    }
   ],
   "source": [
    "AplicaFuzzy('Iphone 6s', dataset.descrição, fuzz.ratio, 90)"
   ]
  },
  {
   "cell_type": "code",
   "execution_count": 72,
   "id": "0134e6ee",
   "metadata": {},
   "outputs": [
    {
     "data": {
      "text/plain": [
       "0    iphone 6s\n",
       "1    iphone 6s\n",
       "2    iphone 6s\n",
       "3    iphone 6s\n",
       "4    iphone 6s\n",
       "5    iphone 6s\n",
       "Name: descrição2, dtype: object"
      ]
     },
     "execution_count": 72,
     "metadata": {},
     "output_type": "execute_result"
    }
   ],
   "source": [
    "dataset['descrição2'] = AplicaFuzzy('Iphone 6s', dataset.descrição, fuzz.ratio, 95)[0]\n",
    "dataset['descrição2']"
   ]
  },
  {
   "cell_type": "code",
   "execution_count": 87,
   "id": "e149bd40",
   "metadata": {},
   "outputs": [
    {
     "data": {
      "text/plain": [
       "0        (iphone 6ss, 95)\n",
       "1        (iphone 6s, 100)\n",
       "2         (iphoni 6s, 89)\n",
       "3          (ipone 6s, 94)\n",
       "4    (Iphone 6s,,,,, 100)\n",
       "5                    None\n",
       "Name: descrição, dtype: object"
      ]
     },
     "execution_count": 87,
     "metadata": {},
     "output_type": "execute_result"
    }
   ],
   "source": [
    "dataset['descrição'].apply(lambda x: AplicaFuzzy('Iphone 6s', [x], fuzz.ratio, 50))"
   ]
  },
  {
   "cell_type": "code",
   "execution_count": 78,
   "id": "66f31ee8",
   "metadata": {},
   "outputs": [
    {
     "data": {
      "text/plain": [
       "('i', 20)"
      ]
     },
     "execution_count": 78,
     "metadata": {},
     "output_type": "execute_result"
    }
   ],
   "source": [
    "AplicaFuzzy('Iphone 6s', 'iphone 6ss', fuzz.ratio, 1)"
   ]
  },
  {
   "cell_type": "code",
   "execution_count": 89,
   "id": "064e74fd",
   "metadata": {},
   "outputs": [
    {
     "data": {
      "text/plain": [
       "[('Iphone 6s', 12)]"
      ]
     },
     "execution_count": 89,
     "metadata": {},
     "output_type": "execute_result"
    }
   ],
   "source": [
    "process.extract('abacate', choices=['Iphone 6s'], scorer=fuzz.ratio,)"
   ]
  }
 ],
 "metadata": {
  "kernelspec": {
   "display_name": "Python 3 (ipykernel)",
   "language": "python",
   "name": "python3"
  },
  "language_info": {
   "codemirror_mode": {
    "name": "ipython",
    "version": 3
   },
   "file_extension": ".py",
   "mimetype": "text/x-python",
   "name": "python",
   "nbconvert_exporter": "python",
   "pygments_lexer": "ipython3",
   "version": "3.9.7"
  }
 },
 "nbformat": 4,
 "nbformat_minor": 5
}
