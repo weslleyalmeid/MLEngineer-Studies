{
 "cells": [
  {
   "cell_type": "code",
   "execution_count": 14,
   "id": "460736f7",
   "metadata": {},
   "outputs": [],
   "source": [
    "import requests"
   ]
  },
  {
   "cell_type": "code",
   "execution_count": 15,
   "id": "5df6a69c",
   "metadata": {},
   "outputs": [],
   "source": [
    "url = 'http://127.0.0.1:8000/invocations'"
   ]
  },
  {
   "cell_type": "code",
   "execution_count": 16,
   "id": "3ac114c5",
   "metadata": {},
   "outputs": [],
   "source": [
    "data = {\n",
    "    'columns':['tamanho', 'ano', 'garagem'],\n",
    "    'data':[[159.0, 2003, 2]]\n",
    "}"
   ]
  },
  {
   "cell_type": "code",
   "execution_count": 17,
   "id": "6e32df72",
   "metadata": {},
   "outputs": [],
   "source": [
    "header = {'Content-Type':'application/json'}"
   ]
  },
  {
   "cell_type": "code",
   "execution_count": 18,
   "id": "630da6cd",
   "metadata": {},
   "outputs": [
    {
     "data": {
      "text/plain": [
       "<Response [200]>"
      ]
     },
     "execution_count": 18,
     "metadata": {},
     "output_type": "execute_result"
    }
   ],
   "source": [
    "response = requests.post(url, json=data, headers=header)\n",
    "response"
   ]
  },
  {
   "cell_type": "code",
   "execution_count": 19,
   "id": "13dbbcde",
   "metadata": {},
   "outputs": [
    {
     "data": {
      "text/plain": [
       "'[202609.09375]'"
      ]
     },
     "execution_count": 19,
     "metadata": {},
     "output_type": "execute_result"
    }
   ],
   "source": [
    "response.text"
   ]
  },
  {
   "cell_type": "code",
   "execution_count": 20,
   "id": "3dc682b7",
   "metadata": {},
   "outputs": [
    {
     "data": {
      "text/plain": [
       "'[202609.09375]'"
      ]
     },
     "execution_count": 20,
     "metadata": {},
     "output_type": "execute_result"
    }
   ],
   "source": [
    "response.text"
   ]
  }
 ],
 "metadata": {
  "kernelspec": {
   "display_name": "Python 3 (ipykernel)",
   "language": "python",
   "name": "python3"
  },
  "language_info": {
   "codemirror_mode": {
    "name": "ipython",
    "version": 3
   },
   "file_extension": ".py",
   "mimetype": "text/x-python",
   "name": "python",
   "nbconvert_exporter": "python",
   "pygments_lexer": "ipython3",
   "version": "3.9.7"
  }
 },
 "nbformat": 4,
 "nbformat_minor": 5
}
