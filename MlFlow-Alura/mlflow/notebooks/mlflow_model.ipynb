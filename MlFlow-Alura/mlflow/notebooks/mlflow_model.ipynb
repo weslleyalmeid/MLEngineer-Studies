{
 "cells": [
  {
   "cell_type": "code",
   "execution_count": 6,
   "id": "a00f0195",
   "metadata": {},
   "outputs": [],
   "source": [
    "import pandas as pd\n",
    "import os.path"
   ]
  },
  {
   "cell_type": "code",
   "execution_count": 7,
   "id": "e716d97c",
   "metadata": {},
   "outputs": [],
   "source": [
    "ROOT_DIR = os.path.abspath(os.pardir)\n",
    "BASE_DIR = os.path.join(ROOT_DIR, 'data')"
   ]
  },
  {
   "cell_type": "code",
   "execution_count": 8,
   "id": "8d5e48fb",
   "metadata": {},
   "outputs": [],
   "source": [
    "data = os.path.join(BASE_DIR, 'processed', 'casas.csv')\n",
    "df = pd.read_csv(data)"
   ]
  },
  {
   "cell_type": "code",
   "execution_count": 9,
   "id": "547c83d9",
   "metadata": {},
   "outputs": [
    {
     "data": {
      "text/html": [
       "<div>\n",
       "<style scoped>\n",
       "    .dataframe tbody tr th:only-of-type {\n",
       "        vertical-align: middle;\n",
       "    }\n",
       "\n",
       "    .dataframe tbody tr th {\n",
       "        vertical-align: top;\n",
       "    }\n",
       "\n",
       "    .dataframe thead th {\n",
       "        text-align: right;\n",
       "    }\n",
       "</style>\n",
       "<table border=\"1\" class=\"dataframe\">\n",
       "  <thead>\n",
       "    <tr style=\"text-align: right;\">\n",
       "      <th></th>\n",
       "      <th>tamanho</th>\n",
       "      <th>ano</th>\n",
       "      <th>garagem</th>\n",
       "      <th>preco</th>\n",
       "    </tr>\n",
       "  </thead>\n",
       "  <tbody>\n",
       "    <tr>\n",
       "      <th>0</th>\n",
       "      <td>159.0</td>\n",
       "      <td>2003</td>\n",
       "      <td>2</td>\n",
       "      <td>208500</td>\n",
       "    </tr>\n",
       "    <tr>\n",
       "      <th>1</th>\n",
       "      <td>117.0</td>\n",
       "      <td>1976</td>\n",
       "      <td>2</td>\n",
       "      <td>181500</td>\n",
       "    </tr>\n",
       "    <tr>\n",
       "      <th>2</th>\n",
       "      <td>166.0</td>\n",
       "      <td>2001</td>\n",
       "      <td>2</td>\n",
       "      <td>223500</td>\n",
       "    </tr>\n",
       "    <tr>\n",
       "      <th>3</th>\n",
       "      <td>160.0</td>\n",
       "      <td>1915</td>\n",
       "      <td>3</td>\n",
       "      <td>140000</td>\n",
       "    </tr>\n",
       "    <tr>\n",
       "      <th>4</th>\n",
       "      <td>204.0</td>\n",
       "      <td>2000</td>\n",
       "      <td>3</td>\n",
       "      <td>250000</td>\n",
       "    </tr>\n",
       "  </tbody>\n",
       "</table>\n",
       "</div>"
      ],
      "text/plain": [
       "   tamanho   ano  garagem   preco\n",
       "0    159.0  2003        2  208500\n",
       "1    117.0  1976        2  181500\n",
       "2    166.0  2001        2  223500\n",
       "3    160.0  1915        3  140000\n",
       "4    204.0  2000        3  250000"
      ]
     },
     "execution_count": 9,
     "metadata": {},
     "output_type": "execute_result"
    }
   ],
   "source": [
    "df.head()"
   ]
  },
  {
   "cell_type": "code",
   "execution_count": 10,
   "id": "ed397f6e",
   "metadata": {},
   "outputs": [
    {
     "data": {
      "text/plain": [
       "'..'"
      ]
     },
     "execution_count": 10,
     "metadata": {},
     "output_type": "execute_result"
    }
   ],
   "source": [
    "os.pardir"
   ]
  },
  {
   "cell_type": "code",
   "execution_count": 11,
   "id": "a453a61f",
   "metadata": {},
   "outputs": [],
   "source": [
    "X = df.drop('preco', axis=1)\n",
    "y = df['preco'].copy()"
   ]
  },
  {
   "cell_type": "code",
   "execution_count": 12,
   "id": "6cd3e4ba",
   "metadata": {},
   "outputs": [],
   "source": [
    "from sklearn.model_selection import train_test_split\n",
    "\n",
    "X_train, X_test, y_train, y_test = train_test_split(X, y, test_size=0.3, random_state=42)"
   ]
  },
  {
   "cell_type": "code",
   "execution_count": 13,
   "id": "e35db643",
   "metadata": {},
   "outputs": [
    {
     "data": {
      "text/plain": [
       "(1022, 3)"
      ]
     },
     "execution_count": 13,
     "metadata": {},
     "output_type": "execute_result"
    }
   ],
   "source": [
    "X_train.shape"
   ]
  },
  {
   "cell_type": "code",
   "execution_count": 14,
   "id": "24e99509",
   "metadata": {},
   "outputs": [
    {
     "data": {
      "text/plain": [
       "(438, 3)"
      ]
     },
     "execution_count": 14,
     "metadata": {},
     "output_type": "execute_result"
    }
   ],
   "source": [
    "X_test.shape"
   ]
  },
  {
   "cell_type": "code",
   "execution_count": 2,
   "id": "1ccc44cd",
   "metadata": {},
   "outputs": [],
   "source": [
    "import mlflow"
   ]
  },
  {
   "cell_type": "code",
   "execution_count": 3,
   "id": "6401dde3",
   "metadata": {},
   "outputs": [
    {
     "name": "stderr",
     "output_type": "stream",
     "text": [
      "2022/04/27 20:36:38 INFO mlflow.tracking.fluent: Experiment with name 'house-prices-eda' does not exist. Creating a new experiment.\n"
     ]
    },
    {
     "data": {
      "text/plain": [
       "<Experiment: artifact_location='file:///home/weslley/Desktop/MLEngineer-Studies/MlFlow-Alura/mlflow/notebooks/mlruns/1', experiment_id='1', lifecycle_stage='active', name='house-prices-eda', tags={}>"
      ]
     },
     "execution_count": 3,
     "metadata": {},
     "output_type": "execute_result"
    }
   ],
   "source": [
    "# iniciar um projeto\n",
    "mlflow.set_experiment('house-prices-eda')"
   ]
  },
  {
   "cell_type": "code",
   "execution_count": 4,
   "id": "0e571998",
   "metadata": {},
   "outputs": [
    {
     "data": {
      "text/plain": [
       "<ActiveRun: >"
      ]
     },
     "execution_count": 4,
     "metadata": {},
     "output_type": "execute_result"
    }
   ],
   "source": [
    "mlflow.start_run()"
   ]
  },
  {
   "cell_type": "markdown",
   "id": "0a2f5dce",
   "metadata": {},
   "source": [
    "## Linear Regression"
   ]
  },
  {
   "cell_type": "code",
   "execution_count": 15,
   "id": "ded9648d",
   "metadata": {},
   "outputs": [
    {
     "data": {
      "text/plain": [
       "LinearRegression()"
      ]
     },
     "execution_count": 15,
     "metadata": {},
     "output_type": "execute_result"
    }
   ],
   "source": [
    "from sklearn.linear_model import LinearRegression\n",
    "\n",
    "lr = LinearRegression()\n",
    "lr.fit(X_train, y_train)"
   ]
  },
  {
   "cell_type": "code",
   "execution_count": 16,
   "id": "f7a714b8",
   "metadata": {},
   "outputs": [
    {
     "name": "stderr",
     "output_type": "stream",
     "text": [
      "/home/weslley/Desktop/MLEngineer-Studies/MlFlow-Alura/.venv_mlflow/lib/python3.9/site-packages/_distutils_hack/__init__.py:30: UserWarning: Setuptools is replacing distutils.\n",
      "  warnings.warn(\"Setuptools is replacing distutils.\")\n"
     ]
    },
    {
     "data": {
      "text/plain": [
       "ModelInfo(artifact_path='lr', flavors={'python_function': {'model_path': 'model.pkl', 'loader_module': 'mlflow.sklearn', 'python_version': '3.9.7', 'env': 'conda.yaml'}, 'sklearn': {'pickled_model': 'model.pkl', 'sklearn_version': '1.0.2', 'serialization_format': 'cloudpickle', 'code': None}}, model_uri='runs:/57082c91aca34e219d56cbfd78522781/lr', model_uuid='94641f4355364943898dac2fef6c104b', run_id='57082c91aca34e219d56cbfd78522781', saved_input_example_info=None, signature_dict=None, utc_time_created='2022-04-27 23:40:29.414436', mlflow_version='1.25.1')"
      ]
     },
     "execution_count": 16,
     "metadata": {},
     "output_type": "execute_result"
    }
   ],
   "source": [
    "mlflow.sklearn.log_model(lr, 'lr')"
   ]
  },
  {
   "cell_type": "code",
   "execution_count": 20,
   "id": "5b46f45e",
   "metadata": {},
   "outputs": [],
   "source": [
    "lr_predicted = lr.predict(X_test)"
   ]
  },
  {
   "cell_type": "code",
   "execution_count": 21,
   "id": "813ce351",
   "metadata": {},
   "outputs": [
    {
     "data": {
      "text/plain": [
       "tamanho      99.0\n",
       "ano        1963.0\n",
       "garagem       1.0\n",
       "Name: 892, dtype: float64"
      ]
     },
     "execution_count": 21,
     "metadata": {},
     "output_type": "execute_result"
    }
   ],
   "source": [
    "X_test.iloc[0]"
   ]
  },
  {
   "cell_type": "code",
   "execution_count": 22,
   "id": "25d744fb",
   "metadata": {},
   "outputs": [
    {
     "data": {
      "text/plain": [
       "154500"
      ]
     },
     "execution_count": 22,
     "metadata": {},
     "output_type": "execute_result"
    }
   ],
   "source": [
    "y_test.iloc[0]"
   ]
  },
  {
   "cell_type": "code",
   "execution_count": 23,
   "id": "88883d15",
   "metadata": {},
   "outputs": [],
   "source": [
    "from sklearn.metrics import mean_squared_error, r2_score\n",
    "import math"
   ]
  },
  {
   "cell_type": "code",
   "execution_count": 24,
   "id": "919ac8f6",
   "metadata": {},
   "outputs": [
    {
     "name": "stdout",
     "output_type": "stream",
     "text": [
      "2078666917.9289913 45592.399782518485 0.7021153642898048\n"
     ]
    }
   ],
   "source": [
    "mse = mean_squared_error(y_test, lr_predicted)\n",
    "rmse = math.sqrt(mse)\n",
    "r2 = r2_score(y_test, lr_predicted)\n",
    "\n",
    "mlflow.log_metric('mse', mse)\n",
    "mlflow.log_metric('rmse', rmse)\n",
    "mlflow.log_metric('r2', r2)\n",
    "print(mse, rmse, r2)"
   ]
  },
  {
   "cell_type": "code",
   "execution_count": 26,
   "id": "8d463d54",
   "metadata": {},
   "outputs": [],
   "source": [
    "mlflow.end_run()"
   ]
  },
  {
   "cell_type": "code",
   "execution_count": 25,
   "id": "af899ee5",
   "metadata": {},
   "outputs": [],
   "source": [
    "from xgboost import XGBRFClassifier, XGBRegressor"
   ]
  },
  {
   "cell_type": "code",
   "execution_count": 28,
   "id": "da7aeb9b",
   "metadata": {},
   "outputs": [
    {
     "name": "stdout",
     "output_type": "stream",
     "text": [
      "1386727460.1346002 37238.789724353286 0.8012741720529797\n"
     ]
    }
   ],
   "source": [
    "xgb_params = {\n",
    "    'learning_rate':0.2,\n",
    "    'n_estimators':50,\n",
    "    'random_state':42\n",
    "}\n",
    "\n",
    "with mlflow.start_run():\n",
    "    xgb = XGBRegressor(**xgb_params)\n",
    "    xgb.fit(X_train, y_train)\n",
    "    mlflow.xgboost.log_model(xgb, 'xgboost')\n",
    "    \n",
    "    xgb_predicted = xgb.predict(X_test)\n",
    "    \n",
    "    mse = mean_squared_error(y_test, xgb_predicted)\n",
    "    rmse = math.sqrt(mse)\n",
    "    r2 = r2_score(y_test, xgb_predicted)\n",
    "\n",
    "    mlflow.log_metric('mse', mse)\n",
    "    mlflow.log_metric('rmse', rmse)\n",
    "    mlflow.log_metric('r2', r2)\n",
    "    print(mse, rmse, r2)"
   ]
  },
  {
   "cell_type": "code",
   "execution_count": 32,
   "id": "b8eaa52d",
   "metadata": {},
   "outputs": [
    {
     "name": "stdout",
     "output_type": "stream",
     "text": [
      "1550816053.129738 39380.40189141977 0.7777593557411607\n"
     ]
    }
   ],
   "source": []
  },
  {
   "cell_type": "markdown",
   "id": "7c4bb34c",
   "metadata": {},
   "source": [
    "## Consumindo API do experimento"
   ]
  },
  {
   "cell_type": "code",
   "execution_count": 29,
   "id": "6eb91264",
   "metadata": {},
   "outputs": [
    {
     "data": {
      "text/plain": [
       "<Experiment: artifact_location='file:///home/weslley/Desktop/MLEngineer-Studies/MlFlow-Alura/mlflow/notebooks/mlruns/1', experiment_id='1', lifecycle_stage='active', name='house-prices-eda', tags={}>"
      ]
     },
     "execution_count": 29,
     "metadata": {},
     "output_type": "execute_result"
    }
   ],
   "source": [
    "mlflow.get_experiment_by_name('house-prices-eda').experiment_id"
   ]
  },
  {
   "cell_type": "code",
   "execution_count": 34,
   "id": "5c92a453",
   "metadata": {},
   "outputs": [
    {
     "data": {
      "text/plain": [
       "'1'"
      ]
     },
     "execution_count": 34,
     "metadata": {},
     "output_type": "execute_result"
    }
   ],
   "source": [
    "id_experiment = mlflow.get_experiment_by_name('house-prices-eda').experiment_id\n",
    "id_experiment"
   ]
  },
  {
   "cell_type": "code",
   "execution_count": 35,
   "id": "6952a486",
   "metadata": {},
   "outputs": [
    {
     "data": {
      "text/plain": [
       "[<RunInfo: artifact_uri='file:///home/weslley/Desktop/MLEngineer-Studies/MlFlow-Alura/mlflow/notebooks/mlruns/1/9d269fd4b8c349edafb9eae9693dc196/artifacts', end_time=1651104179846, experiment_id='1', lifecycle_stage='active', run_id='9d269fd4b8c349edafb9eae9693dc196', run_uuid='9d269fd4b8c349edafb9eae9693dc196', start_time=1651104176894, status='FINISHED', user_id='weslley'>,\n",
       " <RunInfo: artifact_uri='file:///home/weslley/Desktop/MLEngineer-Studies/MlFlow-Alura/mlflow/notebooks/mlruns/1/deec634740e84eba9dd2551eb8f91ebb/artifacts', end_time=1651104045795, experiment_id='1', lifecycle_stage='active', run_id='deec634740e84eba9dd2551eb8f91ebb', run_uuid='deec634740e84eba9dd2551eb8f91ebb', start_time=1651104042394, status='FINISHED', user_id='weslley'>,\n",
       " <RunInfo: artifact_uri='file:///home/weslley/Desktop/MLEngineer-Studies/MlFlow-Alura/mlflow/notebooks/mlruns/1/57082c91aca34e219d56cbfd78522781/artifacts', end_time=1651103422816, experiment_id='1', lifecycle_stage='active', run_id='57082c91aca34e219d56cbfd78522781', run_uuid='57082c91aca34e219d56cbfd78522781', start_time=1651102747290, status='FINISHED', user_id='weslley'>]"
      ]
     },
     "execution_count": 35,
     "metadata": {},
     "output_type": "execute_result"
    }
   ],
   "source": [
    "mlflow.list_run_infos(id_experiment)"
   ]
  },
  {
   "cell_type": "code",
   "execution_count": 36,
   "id": "f73b9ce0",
   "metadata": {},
   "outputs": [
    {
     "data": {
      "text/plain": [
       "'57082c91aca34e219d56cbfd78522781'"
      ]
     },
     "execution_count": 36,
     "metadata": {},
     "output_type": "execute_result"
    }
   ],
   "source": [
    "run_id = mlflow.list_run_infos(id_experiment)[-1].run_id\n",
    "run_id"
   ]
  },
  {
   "cell_type": "code",
   "execution_count": 37,
   "id": "e9db96de",
   "metadata": {},
   "outputs": [
    {
     "data": {
      "text/plain": [
       "<Run: data=<RunData: metrics={'mse': 2078666917.9289913,\n",
       " 'r2': 0.7021153642898048,\n",
       " 'rmse': 45592.399782518485}, params={}, tags={'mlflow.log-model.history': '[{\"run_id\": \"57082c91aca34e219d56cbfd78522781\", '\n",
       "                             '\"artifact_path\": \"lr\", \"utc_time_created\": '\n",
       "                             '\"2022-04-27 23:40:29.414436\", \"flavors\": '\n",
       "                             '{\"python_function\": {\"model_path\": \"model.pkl\", '\n",
       "                             '\"loader_module\": \"mlflow.sklearn\", '\n",
       "                             '\"python_version\": \"3.9.7\", \"env\": \"conda.yaml\"}, '\n",
       "                             '\"sklearn\": {\"pickled_model\": \"model.pkl\", '\n",
       "                             '\"sklearn_version\": \"1.0.2\", '\n",
       "                             '\"serialization_format\": \"cloudpickle\", \"code\": '\n",
       "                             'null}}, \"model_uuid\": '\n",
       "                             '\"94641f4355364943898dac2fef6c104b\", '\n",
       "                             '\"mlflow_version\": \"1.25.1\"}]',\n",
       " 'mlflow.source.git.commit': '4a36286b2514882802a7158ad779af7042c858a7',\n",
       " 'mlflow.source.name': '/home/weslley/Desktop/MLEngineer-Studies/MlFlow-Alura/.venv_mlflow/lib/python3.9/site-packages/ipykernel_launcher.py',\n",
       " 'mlflow.source.type': 'LOCAL',\n",
       " 'mlflow.user': 'weslley'}>, info=<RunInfo: artifact_uri='file:///home/weslley/Desktop/MLEngineer-Studies/MlFlow-Alura/mlflow/notebooks/mlruns/1/57082c91aca34e219d56cbfd78522781/artifacts', end_time=1651103422816, experiment_id='1', lifecycle_stage='active', run_id='57082c91aca34e219d56cbfd78522781', run_uuid='57082c91aca34e219d56cbfd78522781', start_time=1651102747290, status='FINISHED', user_id='weslley'>>"
      ]
     },
     "execution_count": 37,
     "metadata": {},
     "output_type": "execute_result"
    }
   ],
   "source": [
    "mlflow.get_run(run_id)"
   ]
  },
  {
   "cell_type": "code",
   "execution_count": null,
   "id": "0a73d419",
   "metadata": {},
   "outputs": [],
   "source": []
  }
 ],
 "metadata": {
  "kernelspec": {
   "display_name": "Python 3 (ipykernel)",
   "language": "python",
   "name": "python3"
  },
  "language_info": {
   "codemirror_mode": {
    "name": "ipython",
    "version": 3
   },
   "file_extension": ".py",
   "mimetype": "text/x-python",
   "name": "python",
   "nbconvert_exporter": "python",
   "pygments_lexer": "ipython3",
   "version": "3.9.7"
  }
 },
 "nbformat": 4,
 "nbformat_minor": 5
}
